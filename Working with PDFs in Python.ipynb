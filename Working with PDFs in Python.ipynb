{
 "cells": [
  {
   "cell_type": "markdown",
   "metadata": {
    "slideshow": {
     "slide_type": "slide"
    }
   },
   "source": [
    "# <center>Working with PDFs in Python </center>\n",
    "<p><p>\n",
    "<center>Mike Driscoll (@driscollis)</center>\n",
    "<p><p>"
   ]
  },
  {
   "cell_type": "markdown",
   "metadata": {
    "slideshow": {
     "slide_type": "slide"
    }
   },
   "source": [
    "# Slides / Code\n",
    "## https://github.com/driscollis/PrairieCode2019"
   ]
  },
  {
   "cell_type": "markdown",
   "metadata": {
    "slideshow": {
     "slide_type": "slide"
    }
   },
   "source": [
    "# About Mike\n",
    "\n",
    "- Blogs at www.MouseVsPython.com\n",
    "- Contributes to https://realpython.com/\n",
    "- Writes technical books"
   ]
  },
  {
   "cell_type": "markdown",
   "metadata": {
    "slideshow": {
     "slide_type": "slide"
    }
   },
   "source": [
    "![title](screenshots/all_python.png)"
   ]
  },
  {
   "cell_type": "markdown",
   "metadata": {
    "slideshow": {
     "slide_type": "slide"
    }
   },
   "source": [
    "# www.Python101.org"
   ]
  },
  {
   "cell_type": "markdown",
   "metadata": {
    "slideshow": {
     "slide_type": "slide"
    }
   },
   "source": [
    "# Let's Get Started!"
   ]
  },
  {
   "cell_type": "markdown",
   "metadata": {
    "slideshow": {
     "slide_type": "slide"
    }
   },
   "source": [
    "# What is PDF?\n",
    "\n",
    "\"Portable Document Format (PDF) is a file format used to present and exchange documents reliably, independent of software, hardware, or operating system. Invented by Adobe, PDF is now an open standard maintained by the International Organization for Standardization (ISO). PDFs can contain links and buttons, form fields, audio, video, and business logic. They can also be signed electronically and are easily viewed using free Acrobat Reader DC software.\" - Adobe\n"
   ]
  },
  {
   "cell_type": "markdown",
   "metadata": {
    "slideshow": {
     "slide_type": "slide"
    }
   },
   "source": [
    "# Creating a PDF with Python"
   ]
  },
  {
   "cell_type": "markdown",
   "metadata": {
    "slideshow": {
     "slide_type": "slide"
    }
   },
   "source": [
    "# Tools for Creating PDFs\n",
    "\n",
    "- ReportLab\n",
    "- PyFPDF\n",
    "- Weazyprint\n",
    "- rst2pdf"
   ]
  },
  {
   "cell_type": "markdown",
   "metadata": {
    "slideshow": {
     "slide_type": "slide"
    }
   },
   "source": [
    "# ReportLab\n",
    "\n",
    "- Has the most features\n",
    "- Decent documentation\n",
    "- Lots of built-in objects"
   ]
  },
  {
   "cell_type": "markdown",
   "metadata": {
    "slideshow": {
     "slide_type": "slide"
    }
   },
   "source": [
    "# FPDF\n",
    "- Simpler\n",
    "- Not as full-featured \n",
    "- Missing good table support"
   ]
  },
  {
   "cell_type": "markdown",
   "metadata": {
    "slideshow": {
     "slide_type": "slide"
    }
   },
   "source": [
    "# Let's Use ReportLab!"
   ]
  },
  {
   "cell_type": "markdown",
   "metadata": {
    "slideshow": {
     "slide_type": "slide"
    }
   },
   "source": [
    "# Two Versions of ReportLab\n",
    "- ReportLab (Open Source)\n",
    "- ReportLab Plus"
   ]
  },
  {
   "cell_type": "markdown",
   "metadata": {
    "slideshow": {
     "slide_type": "slide"
    }
   },
   "source": [
    "# Installation\n",
    "\n",
    "`pip install reportlab`"
   ]
  },
  {
   "cell_type": "markdown",
   "metadata": {
    "slideshow": {
     "slide_type": "slide"
    }
   },
   "source": [
    "# Installing in a Virtual Environment\n",
    "\n",
    "```\n",
    "python -m venv pdf_test\n",
    "cd pdf_test\n",
    "source bin/activate\n",
    "pip install reportlab\n",
    "```"
   ]
  },
  {
   "cell_type": "markdown",
   "metadata": {
    "slideshow": {
     "slide_type": "slide"
    }
   },
   "source": [
    "# Creating a PDF with ReportLab\n",
    "\n",
    "- Using canvas\n",
    "- Using Page Layout and Typography Using Scripts"
   ]
  },
  {
   "cell_type": "markdown",
   "metadata": {
    "slideshow": {
     "slide_type": "slide"
    }
   },
   "source": [
    "# Using the canvas"
   ]
  },
  {
   "cell_type": "code",
   "execution_count": null,
   "metadata": {
    "slideshow": {
     "slide_type": "slide"
    }
   },
   "outputs": [],
   "source": [
    "from reportlab.pdfgen import canvas\n",
    " \n",
    "c = canvas.Canvas(\"output/hello.pdf\")\n",
    "# Coords in points (72 points in an inch)\n",
    "c.drawString(100, 750, \"Welcome to Reportlab!\")\n",
    "c.showPage()\n",
    "c.save()"
   ]
  },
  {
   "cell_type": "markdown",
   "metadata": {
    "slideshow": {
     "slide_type": "subslide"
    }
   },
   "source": [
    "![title](screenshots/hello.png)"
   ]
  },
  {
   "cell_type": "markdown",
   "metadata": {
    "slideshow": {
     "slide_type": "slide"
    }
   },
   "source": [
    "# Cons of Canvas\n",
    "\n",
    "- You keep track of placement\n",
    "- You must add page breaks\n",
    "- Adding a new element means you need to recalculate placement of others elements"
   ]
  },
  {
   "cell_type": "markdown",
   "metadata": {
    "slideshow": {
     "slide_type": "slide"
    }
   },
   "source": [
    "# Let's See What Else You Can Do!"
   ]
  },
  {
   "cell_type": "markdown",
   "metadata": {
    "slideshow": {
     "slide_type": "slide"
    }
   },
   "source": [
    "# Drawing Polygons"
   ]
  },
  {
   "cell_type": "code",
   "execution_count": null,
   "metadata": {
    "slideshow": {
     "slide_type": "subslide"
    }
   },
   "outputs": [],
   "source": [
    "# drawing_polygons.py\n",
    "\n",
    "from reportlab.lib.pagesizes import letter\n",
    "from reportlab.pdfgen import canvas\n",
    "\n",
    "def draw_shapes():\n",
    "    c = canvas.Canvas(\"output/draw_other.pdf\", pagesize=letter)\n",
    "    c.setStrokeColorRGB(0.2, 0.5, 0.3)\n",
    "    c.rect(10, 700, width=100, height=80, stroke=1, fill=0)\n",
    "    c.ellipse(10, 680, 100, 630, stroke=1, fill=1)\n",
    "    c.wedge(10, 600, 100, 550, startAng=45, extent=90, stroke=1, fill=0)\n",
    "    c.circle(300, 600, r=50)\n",
    "    c.save()\n",
    "\n",
    "if __name__ == '__main__':\n",
    "    draw_shapes()"
   ]
  },
  {
   "cell_type": "markdown",
   "metadata": {
    "slideshow": {
     "slide_type": "slide"
    }
   },
   "source": [
    "# Adding an Image"
   ]
  },
  {
   "cell_type": "code",
   "execution_count": null,
   "metadata": {
    "slideshow": {
     "slide_type": "subslide"
    }
   },
   "outputs": [],
   "source": [
    "# image_on_canvas.py\n",
    "\n",
    "from reportlab.lib.pagesizes import letter\n",
    "from reportlab.pdfgen import canvas\n",
    "\n",
    "\n",
    "def add_image(image_path):\n",
    "    my_canvas = canvas.Canvas(\"output/canvas_image.pdf\",\n",
    "                              pagesize=letter)\n",
    "    my_canvas.drawImage(image_path, 30, 600,\n",
    "                        width=100, height=100)\n",
    "    my_canvas.save()\n",
    "\n",
    "if __name__ == '__main__':\n",
    "    image_path = 'snakehead.jpg'\n",
    "    add_image(image_path)"
   ]
  },
  {
   "cell_type": "markdown",
   "metadata": {
    "slideshow": {
     "slide_type": "slide"
    }
   },
   "source": [
    "# Playing with Color"
   ]
  },
  {
   "cell_type": "code",
   "execution_count": null,
   "metadata": {
    "slideshow": {
     "slide_type": "subslide"
    }
   },
   "outputs": [],
   "source": [
    "# colors_demo.py\n",
    "\n",
    "from reportlab.lib import colors\n",
    "from reportlab.lib.pagesizes import letter\n",
    "from reportlab.pdfgen import canvas\n",
    "\n",
    "my_canvas = canvas.Canvas(\"output/colors.pdf\",\n",
    "                          pagesize=letter)\n",
    "my_canvas.setFont('Helvetica', 10)\n",
    "x = 30\n",
    "\n",
    "sample_colors = [colors.aliceblue,\n",
    "                 colors.aquamarine,\n",
    "                 colors.lavender,\n",
    "                 colors.beige,\n",
    "                 colors.chocolate]"
   ]
  },
  {
   "cell_type": "code",
   "execution_count": null,
   "metadata": {
    "slideshow": {
     "slide_type": "subslide"
    }
   },
   "outputs": [],
   "source": [
    "for color in sample_colors:\n",
    "    my_canvas.setFillColor(color)\n",
    "    my_canvas.circle(x, 730, 20, fill=1)\n",
    "    color_str = f\"{color._lookupName()}\"\n",
    "    my_canvas.setFillColor(colors.black)\n",
    "    my_canvas.drawString(x-10, 700, color_str)\n",
    "    x += 75\n",
    "\n",
    "my_canvas.save()"
   ]
  },
  {
   "cell_type": "markdown",
   "metadata": {
    "slideshow": {
     "slide_type": "slide"
    }
   },
   "source": [
    "# Applying Fonts"
   ]
  },
  {
   "cell_type": "code",
   "execution_count": null,
   "metadata": {
    "slideshow": {
     "slide_type": "subslide"
    }
   },
   "outputs": [],
   "source": [
    "# font_demo.py\n",
    "\n",
    "from reportlab.lib.pagesizes import letter\n",
    "from reportlab.pdfgen import canvas\n",
    "\n",
    "my_canvas = canvas.Canvas(\"output/font_demo.pdf\",\n",
    "                              pagesize=letter)\n",
    "fonts = my_canvas.getAvailableFonts()\n",
    "pos_y = 750\n",
    "for font in fonts:\n",
    "    my_canvas.setFont(font, 12)\n",
    "    my_canvas.drawString(30, pos_y, font)\n",
    "    pos_y -= 10\n",
    "my_canvas.save()"
   ]
  },
  {
   "cell_type": "markdown",
   "metadata": {
    "slideshow": {
     "slide_type": "slide"
    }
   },
   "source": [
    "# Now Let's Try ReportLab's PLATYPUS"
   ]
  },
  {
   "cell_type": "markdown",
   "metadata": {
    "slideshow": {
     "slide_type": "subslide"
    }
   },
   "source": [
    "# Page Layout and Typography Using Scripts (PLATYPUS)"
   ]
  },
  {
   "cell_type": "markdown",
   "metadata": {
    "slideshow": {
     "slide_type": "slide"
    }
   },
   "source": [
    "# Flowables come from reportlab.platypus"
   ]
  },
  {
   "cell_type": "code",
   "execution_count": null,
   "metadata": {
    "slideshow": {
     "slide_type": "slide"
    }
   },
   "outputs": [],
   "source": [
    "# hello_platypus.py\n",
    "\n",
    "from reportlab.lib.pagesizes import letter\n",
    "from reportlab.platypus import SimpleDocTemplate, Paragraph\n",
    "from reportlab.lib.styles import getSampleStyleSheet\n",
    "\n",
    "doc = SimpleDocTemplate(\"output/hello_platypus.pdf\",\n",
    "                        pagesize=letter)\n",
    "styles = getSampleStyleSheet()\n",
    "\n",
    "flowables = []\n",
    "\n",
    "text = \"Hello, I'm a Paragraph\"\n",
    "para = Paragraph(text, style=styles[\"Normal\"])\n",
    "flowables.append(para)\n",
    "\n",
    "doc.build(flowables)"
   ]
  },
  {
   "cell_type": "markdown",
   "metadata": {
    "slideshow": {
     "slide_type": "subslide"
    }
   },
   "source": [
    "![title](screenshots/hello_platypus.png)"
   ]
  },
  {
   "cell_type": "markdown",
   "metadata": {
    "slideshow": {
     "slide_type": "slide"
    }
   },
   "source": [
    "# Why Flowables?\n",
    "\n",
    "* Better multi-page support\n",
    "* Add headers / footers\n",
    "* Can add drawings / graphs / barcodes easier"
   ]
  },
  {
   "cell_type": "markdown",
   "metadata": {
    "slideshow": {
     "slide_type": "slide"
    }
   },
   "source": [
    "# Let's Look at Other Examples!"
   ]
  },
  {
   "cell_type": "markdown",
   "metadata": {
    "slideshow": {
     "slide_type": "slide"
    }
   },
   "source": [
    "# Paragraphs with Fonts / Colors"
   ]
  },
  {
   "cell_type": "code",
   "execution_count": null,
   "metadata": {
    "slideshow": {
     "slide_type": "subslide"
    }
   },
   "outputs": [],
   "source": [
    "# paragraph_font_colors.py\n",
    "\n",
    "from reportlab.lib.pagesizes import letter\n",
    "from reportlab.platypus import SimpleDocTemplate, Paragraph\n",
    "from reportlab.lib.styles import getSampleStyleSheet\n",
    "import reportlab.lib.colors\n",
    "\n",
    "\n",
    "doc = SimpleDocTemplate(\"output/paragraph_font_colors.pdf\",\n",
    "                        pagesize=letter\n",
    "                        )\n",
    "styles = getSampleStyleSheet()\n",
    "\n",
    "flowables = []"
   ]
  },
  {
   "cell_type": "code",
   "execution_count": null,
   "metadata": {
    "slideshow": {
     "slide_type": "subslide"
    }
   },
   "outputs": [],
   "source": [
    "ptext = \"\"\"<font name=helvetica size=12 color=red>\n",
    "Welcome to ReportLab! (helvetica)</font>\"\"\"\n",
    "para = Paragraph(ptext, style=styles[\"Normal\"])\n",
    "flowables.append(para)\n",
    "\n",
    "ptext = \"\"\"<font name=courier fg=blue size=14>\n",
    "Welcome to Reportlab! (courier)</font>\"\"\"\n",
    "para = Paragraph(ptext, style=styles[\"Normal\"])\n",
    "flowables.append(para)\n",
    "\n",
    "ptext = \"\"\"<font name=times-roman size=16 color=#777215>\n",
    "Welcome to Reportlab! (times-roman)</font>\"\"\"\n",
    "para = Paragraph(ptext, style=styles[\"Normal\"])\n",
    "flowables.append(para)\n",
    "\n",
    "doc.build(flowables)"
   ]
  },
  {
   "cell_type": "markdown",
   "metadata": {
    "slideshow": {
     "slide_type": "slide"
    }
   },
   "source": [
    "# Creating a Table"
   ]
  },
  {
   "cell_type": "code",
   "execution_count": null,
   "metadata": {
    "slideshow": {
     "slide_type": "subslide"
    }
   },
   "outputs": [],
   "source": [
    "# simple_table.py\n",
    "\n",
    "from reportlab.lib.pagesizes import letter\n",
    "from reportlab.platypus import SimpleDocTemplate, Table\n",
    "\n",
    "doc = SimpleDocTemplate(\"output/simple_table.pdf\", pagesize=letter)\n",
    "flowables = []\n",
    "\n",
    "data = [['col_{}'.format(x) for x in range(1, 6)],\n",
    "        [str(x) for x in range(1, 6)],\n",
    "        ['a', 'b', 'c', 'd', 'e']\n",
    "        ]\n",
    "\n",
    "tbl = Table(data)\n",
    "flowables.append(tbl)\n",
    "\n",
    "doc.build(flowables)"
   ]
  },
  {
   "cell_type": "markdown",
   "metadata": {
    "slideshow": {
     "slide_type": "slide"
    }
   },
   "source": [
    "# Paragraphs with In-line Images"
   ]
  },
  {
   "cell_type": "code",
   "execution_count": null,
   "metadata": {
    "slideshow": {
     "slide_type": "subslide"
    }
   },
   "outputs": [],
   "source": [
    "from reportlab.lib.pagesizes import letter\n",
    "from reportlab.platypus import SimpleDocTemplate, Paragraph\n",
    "from reportlab.lib.styles import getSampleStyleSheet\n",
    "\n",
    "doc = SimpleDocTemplate(\"output/paragraph_inline_images.pdf\",\n",
    "                        pagesize=letter\n",
    "                        )\n",
    "styles = getSampleStyleSheet()\n",
    "\n",
    "flowables = []\n",
    "\n",
    "ptext = '''Here is a picture:\n",
    "<img src=\"snakehead.jpg\" width=\"50\" height=\"50\"/> in the\n",
    "middle of our text'''\n",
    "p = Paragraph(ptext, styles['Normal'])\n",
    "flowables.append(p)\n",
    "\n",
    "doc.build(flowables)"
   ]
  },
  {
   "cell_type": "markdown",
   "metadata": {
    "slideshow": {
     "slide_type": "slide"
    }
   },
   "source": [
    "# Using the Image Flowable"
   ]
  },
  {
   "cell_type": "code",
   "execution_count": null,
   "metadata": {
    "slideshow": {
     "slide_type": "subslide"
    }
   },
   "outputs": [],
   "source": [
    "# scaled_image.py\n",
    "\n",
    "from reportlab.lib import utils\n",
    "from reportlab.lib.pagesizes import letter\n",
    "from reportlab.platypus import Image, SimpleDocTemplate\n",
    "\n",
    "doc = SimpleDocTemplate(\"output/image_with_scaling.pdf\", pagesize=letter)\n",
    "flowables = []\n",
    "\n",
    "img = utils.ImageReader('snakehead.jpg')\n",
    "img_width, img_height = img.getSize()\n",
    "aspect = img_height / float(img_width)\n",
    "\n",
    "img = Image(\"snakehead.jpg\",\n",
    "            width=50,\n",
    "            height=(50 * aspect))\n",
    "img.hAlign = 'CENTER'\n",
    "flowables.append(img)\n",
    "doc.build(flowables)"
   ]
  },
  {
   "cell_type": "markdown",
   "metadata": {
    "slideshow": {
     "slide_type": "slide"
    }
   },
   "source": [
    "# Want to Learn More?"
   ]
  },
  {
   "cell_type": "markdown",
   "metadata": {
    "slideshow": {
     "slide_type": "slide"
    }
   },
   "source": [
    "![title](screenshots/reportlab_book_cover3.jpg)"
   ]
  },
  {
   "cell_type": "markdown",
   "metadata": {
    "slideshow": {
     "slide_type": "slide"
    }
   },
   "source": [
    "# Manipulating PDFs with Python\n",
    "\n"
   ]
  },
  {
   "cell_type": "markdown",
   "metadata": {
    "slideshow": {
     "slide_type": "slide"
    }
   },
   "source": [
    "* How to Extract Document Information\n",
    "* How to Rotate Pages\n",
    "* How to Merge PDFs\n",
    "* How to Split PDFs\n",
    "* How to Add Watermarks\n",
    "* How to Encrypt a PDF"
   ]
  },
  {
   "cell_type": "markdown",
   "metadata": {
    "slideshow": {
     "slide_type": "slide"
    }
   },
   "source": [
    "# PDF Libraries for Python\n",
    "\n",
    "There are too many!\n",
    "\n",
    "* **PyPDF2**: rotating, merging, splitting, watermarking, etc\n",
    "* **pdfrw**: rotating, merging, splitting, watermarking, etc\n",
    "* **PDFMiner**: For extracting text\n",
    "* **PDFPlumber**: Extracting text / tables"
   ]
  },
  {
   "cell_type": "markdown",
   "metadata": {
    "slideshow": {
     "slide_type": "slide"
    }
   },
   "source": [
    "# We Will Be Using PyPDF2\n",
    "\n",
    "PyPDF2 may be old, but it's reliable\n",
    "\n",
    "**pdfrw** is a viable alternative"
   ]
  },
  {
   "cell_type": "markdown",
   "metadata": {
    "slideshow": {
     "slide_type": "slide"
    }
   },
   "source": [
    "# History of PyPDF\n",
    "\n",
    "* pyPdf (dead)\n",
    "* PyPDF2\n",
    "* PyPDF3 (dead)\n",
    "* PyPDF4 (beta)"
   ]
  },
  {
   "cell_type": "markdown",
   "metadata": {
    "slideshow": {
     "slide_type": "slide"
    }
   },
   "source": [
    "# Installation\n",
    "\n",
    "`pip install pypdf2`"
   ]
  },
  {
   "cell_type": "markdown",
   "metadata": {
    "slideshow": {
     "slide_type": "slide"
    }
   },
   "source": [
    "# Let's Get Started!"
   ]
  },
  {
   "cell_type": "markdown",
   "metadata": {
    "slideshow": {
     "slide_type": "slide"
    }
   },
   "source": [
    "# How to Extract Document Information\n",
    "\n",
    "- author\n",
    "- creator\n",
    "- producer\n",
    "- subject\n",
    "- title\n",
    "- number of pages"
   ]
  },
  {
   "cell_type": "code",
   "execution_count": null,
   "metadata": {
    "slideshow": {
     "slide_type": "slide"
    }
   },
   "outputs": [],
   "source": [
    "from PyPDF2 import PdfFileReader\n",
    "\n",
    "path = 'reportlab-sample.pdf'\n",
    "with open(path, 'rb') as f:\n",
    "    pdf = PdfFileReader(f)\n",
    "    information = pdf.getDocumentInfo()\n",
    "    number_of_pages = pdf.getNumPages()  \n"
   ]
  },
  {
   "cell_type": "code",
   "execution_count": null,
   "metadata": {
    "slideshow": {
     "slide_type": "slide"
    }
   },
   "outputs": [],
   "source": [
    "txt = f\"\"\"\n",
    "Information about {path}: \n",
    "\n",
    "Author: {information.author}\n",
    "Creator: {information.creator}\n",
    "Producer: {information.producer}\n",
    "Subject: {information.subject}\n",
    "Title: {information.title}\n",
    "Number of pages: {number_of_pages}\n",
    "\"\"\"\n",
    "\n",
    "print(txt)"
   ]
  },
  {
   "cell_type": "markdown",
   "metadata": {
    "slideshow": {
     "slide_type": "slide"
    }
   },
   "source": [
    "# How to Rotate Pages"
   ]
  },
  {
   "cell_type": "markdown",
   "metadata": {
    "slideshow": {
     "slide_type": "subslide"
    }
   },
   "source": [
    "# Why Rotate?\n",
    "\n",
    "- Page scanned incorrectly\n",
    "- Client sent a poorly formatted PDF"
   ]
  },
  {
   "cell_type": "code",
   "execution_count": null,
   "metadata": {
    "slideshow": {
     "slide_type": "subslide"
    }
   },
   "outputs": [],
   "source": [
    "# rotate_pages.py\n",
    "\n",
    "from PyPDF2 import PdfFileReader, PdfFileWriter\n",
    "\n",
    "path = 'Jupyter_Notebook_An_Introduction.pdf'\n",
    "pdf_writer = PdfFileWriter()\n",
    "pdf_reader = PdfFileReader(path)\n",
    "# Rotate page 90 degrees to the right\n",
    "page_1 = pdf_reader.getPage(0).rotateClockwise(90)\n",
    "pdf_writer.addPage(page_1)"
   ]
  },
  {
   "cell_type": "code",
   "execution_count": null,
   "metadata": {
    "slideshow": {
     "slide_type": "subslide"
    }
   },
   "outputs": [],
   "source": [
    "# Rotate page 90 degrees to the left\n",
    "page_2 = pdf_reader.getPage(1).rotateCounterClockwise(90)\n",
    "pdf_writer.addPage(page_2)\n",
    "# Add a page in normal orientation\n",
    "pdf_writer.addPage(pdf_reader.getPage(2))\n",
    "\n",
    "with open('output/rotate_pages.pdf', 'wb') as fh:\n",
    "    pdf_writer.write(fh)"
   ]
  },
  {
   "cell_type": "markdown",
   "metadata": {
    "slideshow": {
     "slide_type": "slide"
    }
   },
   "source": [
    "# How to Merge PDFs"
   ]
  },
  {
   "cell_type": "markdown",
   "metadata": {
    "slideshow": {
     "slide_type": "subslide"
    }
   },
   "source": [
    "# Reasons for Merging\n",
    "\n",
    "* Need to add a cover page\n",
    "* Your copier scans the pages to individual PDFs\n",
    "* Building a document from different sources"
   ]
  },
  {
   "cell_type": "code",
   "execution_count": null,
   "metadata": {
    "slideshow": {
     "slide_type": "subslide"
    }
   },
   "outputs": [],
   "source": [
    "# pdf_merging.py\n",
    "\n",
    "from PyPDF2 import PdfFileReader, PdfFileWriter\n",
    "\n",
    "paths = ['document1.pdf', 'document2.pdf']\n",
    "pdf_writer = PdfFileWriter()\n",
    "\n",
    "for path in paths:\n",
    "    pdf_reader = PdfFileReader(path)\n",
    "    for page in range(pdf_reader.getNumPages()):\n",
    "        # Add each page to the writer object\n",
    "        pdf_writer.addPage(pdf_reader.getPage(page))\n",
    "\n",
    "# Write out the merged PDF\n",
    "with open(output, 'wb') as out:\n",
    "    pdf_writer.write(out)"
   ]
  },
  {
   "cell_type": "markdown",
   "metadata": {
    "slideshow": {
     "slide_type": "subslide"
    }
   },
   "source": [
    "# Using PdfFileMerger"
   ]
  },
  {
   "cell_type": "code",
   "execution_count": null,
   "metadata": {
    "slideshow": {
     "slide_type": "subslide"
    }
   },
   "outputs": [],
   "source": [
    "import PyPDF2\n",
    " \n",
    "merger = PyPDF2.PdfFileMerger()\n",
    "\n",
    "paths = ['rotate_pages.pdf', 'watermark.pdf']\n",
    "for path in paths:\n",
    "    merger.append(open(path, 'rb'))\n",
    "\n",
    "merger.write(open(\"output/merged.pdf\", 'wb'))"
   ]
  },
  {
   "cell_type": "markdown",
   "metadata": {
    "slideshow": {
     "slide_type": "slide"
    }
   },
   "source": [
    "# How to Split PDFs"
   ]
  },
  {
   "cell_type": "markdown",
   "metadata": {
    "slideshow": {
     "slide_type": "subslide"
    }
   },
   "source": [
    "# Reasons for Splitting\n",
    "\n",
    "- You want to take a cover page off\n",
    "- You only need a subset of pages"
   ]
  },
  {
   "cell_type": "code",
   "execution_count": null,
   "metadata": {
    "slideshow": {
     "slide_type": "subslide"
    }
   },
   "outputs": [],
   "source": [
    "# pdf_splitting.py\n",
    "\n",
    "from PyPDF2 import PdfFileReader, PdfFileWriter\n",
    "\n",
    "path = 'Jupyter_Notebook_An_Introduction.pdf'\n",
    "name_of_split = 'jupyter_page_'\n",
    "pdf = PdfFileReader(path)\n",
    "for page in range(pdf.getNumPages()):\n",
    "    pdf_writer = PdfFileWriter()\n",
    "    pdf_writer.addPage(pdf.getPage(page))\n",
    "\n",
    "    output = f'output/{name_of_split}{page}.pdf'\n",
    "    with open(output, 'wb') as output_pdf:\n",
    "        pdf_writer.write(output_pdf)"
   ]
  },
  {
   "cell_type": "markdown",
   "metadata": {
    "slideshow": {
     "slide_type": "subslide"
    }
   },
   "source": [
    "## Note: Splitting PDFs does not reduce file size significantly with PyPDF2 or pdfrw"
   ]
  },
  {
   "cell_type": "markdown",
   "metadata": {
    "slideshow": {
     "slide_type": "subslide"
    }
   },
   "source": [
    "### *In many PDFs, all pages will reference the same pool of fonts and other resources, so removing a set of pages, without intrusively scrubbing the resources, won't reduce the size dramatically.*\n",
    "\n",
    "-- Patrick Maupin (author of pdfrw)"
   ]
  },
  {
   "cell_type": "markdown",
   "metadata": {
    "slideshow": {
     "slide_type": "slide"
    }
   },
   "source": [
    "# How to Add Watermarks"
   ]
  },
  {
   "cell_type": "markdown",
   "metadata": {
    "slideshow": {
     "slide_type": "subslide"
    }
   },
   "source": [
    "Watermarks are identifying images or patterns on printed and digital documents.\n",
    "\n",
    "They are useful for protecting intellectual property"
   ]
  },
  {
   "cell_type": "markdown",
   "metadata": {
    "slideshow": {
     "slide_type": "subslide"
    }
   },
   "source": [
    "# Creating a Watermark\n",
    "\n",
    "* Programmatically or\n",
    "* Word Processor"
   ]
  },
  {
   "cell_type": "markdown",
   "metadata": {
    "slideshow": {
     "slide_type": "subslide"
    }
   },
   "source": [
    "# Programmatically\n",
    "\n",
    "You can use ReportLab for that"
   ]
  },
  {
   "cell_type": "code",
   "execution_count": null,
   "metadata": {
    "slideshow": {
     "slide_type": "subslide"
    }
   },
   "outputs": [],
   "source": [
    "from reportlab.lib.pagesizes import letter\n",
    "from reportlab.platypus import SimpleDocTemplate, Image\n",
    "from reportlab.lib import utils\n",
    "\n",
    "img = utils.ImageReader('real-python-logo-wide.png')\n",
    "orig_width, height = img.getSize()\n",
    "aspect = height / orig_width\n",
    "\n",
    "doc = SimpleDocTemplate('watermark.pdf', pagesize=letter)\n",
    "\n",
    "logo = Image('real-python-logo-wide.png', width=400, height=400*aspect)\n",
    "\n",
    "doc.build([logo])"
   ]
  },
  {
   "cell_type": "markdown",
   "metadata": {
    "slideshow": {
     "slide_type": "subslide"
    }
   },
   "source": [
    "# Rotating the Watermark Image"
   ]
  },
  {
   "cell_type": "code",
   "execution_count": null,
   "metadata": {
    "slideshow": {
     "slide_type": "subslide"
    }
   },
   "outputs": [],
   "source": [
    "\n",
    "from reportlab.lib.pagesizes import letter\n",
    "from reportlab.platypus import Image, SimpleDocTemplate\n",
    "\n",
    "class RotatedImage(Image):\n",
    "\n",
    "    def wrap(self, availWidth, availHeight):\n",
    "        height, width = Image.wrap(self, availHeight, availWidth)\n",
    "        return width, height\n",
    "\n",
    "    def draw(self):\n",
    "        self.canv.rotate(45)\n",
    "        Image.draw(self)"
   ]
  },
  {
   "cell_type": "code",
   "execution_count": null,
   "metadata": {
    "slideshow": {
     "slide_type": "subslide"
    }
   },
   "outputs": [],
   "source": [
    "doc = SimpleDocTemplate(\"output/image_with_rotation.pdf\", pagesize=letter)\n",
    "flowables = []\n",
    "\n",
    "img = RotatedImage('real-python-logo-wide.png',\n",
    "                   width=550, height=50,\n",
    "                   kind='proportional'\n",
    "                   )\n",
    "img.hAlign = 'CENTER'\n",
    "flowables.append(img)\n",
    "doc.build(flowables)"
   ]
  },
  {
   "cell_type": "markdown",
   "metadata": {
    "slideshow": {
     "slide_type": "slide"
    }
   },
   "source": [
    "# Why programmatically?\n",
    "\n",
    "- Multiple logos\n",
    "- Automation"
   ]
  },
  {
   "cell_type": "markdown",
   "metadata": {
    "slideshow": {
     "slide_type": "slide"
    }
   },
   "source": [
    "# Applying the Watermark Image"
   ]
  },
  {
   "cell_type": "code",
   "execution_count": null,
   "metadata": {
    "slideshow": {
     "slide_type": "subslide"
    }
   },
   "outputs": [],
   "source": [
    "from PyPDF2 import PdfFileReader, PdfFileWriter\n",
    "input_pdf = 'Jupyter_Notebook_An_Introduction.pdf'\n",
    "logo = 'output/image_with_rotation.pdf'\n",
    "output = 'output/watermarked_notebook.pdf'\n",
    "\n",
    "logo_obj = PdfFileReader(logo)\n",
    "watermark = logo_obj.getPage(0)\n",
    "\n",
    "pdf_reader = PdfFileReader(input_pdf)\n",
    "pdf_writer = PdfFileWriter()\n",
    "\n",
    "# Watermark all the pages\n",
    "for page in range(pdf_reader.getNumPages()):\n",
    "    page = pdf_reader.getPage(page)\n",
    "    page.mergePage(watermark)\n",
    "    pdf_writer.addPage(page)\n",
    "\n",
    "with open(output, 'wb') as out:\n",
    "    pdf_writer.write(out)"
   ]
  },
  {
   "cell_type": "markdown",
   "metadata": {
    "slideshow": {
     "slide_type": "slide"
    }
   },
   "source": [
    "# How to Encrypt a PDF\n",
    "\n",
    "PyPDF2 currently only supports adding a user password and an owner password to a preexisting PDF"
   ]
  },
  {
   "cell_type": "markdown",
   "metadata": {
    "slideshow": {
     "slide_type": "subslide"
    }
   },
   "source": [
    "# Owner vs User Passwords\n",
    "\n",
    "* Owner allows setting permissions\n",
    "* User only allows opening the document"
   ]
  },
  {
   "cell_type": "markdown",
   "metadata": {
    "slideshow": {
     "slide_type": "subslide"
    }
   },
   "source": [
    "PyPDF2 does not appear to allow the setting of any permissions, so owner and user passwords are basically equivelent to each other"
   ]
  },
  {
   "cell_type": "markdown",
   "metadata": {
    "slideshow": {
     "slide_type": "subslide"
    }
   },
   "source": [
    "# Without further ado, let's look at some code!"
   ]
  },
  {
   "cell_type": "code",
   "execution_count": null,
   "metadata": {
    "slideshow": {
     "slide_type": "subslide"
    }
   },
   "outputs": [],
   "source": [
    "# pdf_encrypt.py\n",
    "\n",
    "from PyPDF2 import PdfFileWriter, PdfFileReader\n",
    "\n",
    "def add_encryption(input_pdf, output_pdf, password):\n",
    "    pdf_writer = PdfFileWriter()\n",
    "    pdf_reader = PdfFileReader(input_pdf)\n",
    "\n",
    "    for page in range(pdf_reader.getNumPages()):\n",
    "        pdf_writer.addPage(pdf_reader.getPage(page))\n",
    "\n",
    "    pdf_writer.encrypt(user_pwd=password, owner_pwd=None, \n",
    "                       use_128bit=True)\n",
    "\n",
    "    with open(output_pdf, 'wb') as fh:\n",
    "        pdf_writer.write(fh)\n",
    "\n",
    "if __name__ == '__main__':\n",
    "    add_encryption(input_pdf='reportlab-sample.pdf',\n",
    "                   output_pdf='output/reportlab-encrypted.pdf',\n",
    "                   password='twofish')"
   ]
  },
  {
   "cell_type": "markdown",
   "metadata": {
    "slideshow": {
     "slide_type": "slide"
    }
   },
   "source": [
    "# PDF Utility GUI"
   ]
  },
  {
   "cell_type": "markdown",
   "metadata": {
    "slideshow": {
     "slide_type": "subslide"
    }
   },
   "source": [
    "![title](screenshots/fenix_kick.png)"
   ]
  },
  {
   "cell_type": "markdown",
   "metadata": {
    "slideshow": {
     "slide_type": "subslide"
    }
   },
   "source": [
    "# <center> Merge PDFs</center>\n",
    "\n",
    "![title](screenshots/merge.png)"
   ]
  },
  {
   "cell_type": "markdown",
   "metadata": {
    "slideshow": {
     "slide_type": "subslide"
    }
   },
   "source": [
    "# <center> Split PDFs</center>\n",
    "\n",
    "![title](screenshots/split.png)"
   ]
  },
  {
   "cell_type": "markdown",
   "metadata": {
    "slideshow": {
     "slide_type": "slide"
    }
   },
   "source": [
    "# Want More Information?"
   ]
  },
  {
   "cell_type": "markdown",
   "metadata": {
    "slideshow": {
     "slide_type": "slide"
    }
   },
   "source": [
    "![title](screenshots/mvp_pdf.png)"
   ]
  },
  {
   "cell_type": "markdown",
   "metadata": {
    "slideshow": {
     "slide_type": "slide"
    }
   },
   "source": [
    "![title](screenshots/real_pdf_py.png)"
   ]
  },
  {
   "cell_type": "markdown",
   "metadata": {
    "slideshow": {
     "slide_type": "slide"
    }
   },
   "source": [
    "# Let's Review!\n",
    "\n"
   ]
  },
  {
   "cell_type": "markdown",
   "metadata": {
    "slideshow": {
     "slide_type": "subslide"
    }
   },
   "source": [
    "# Creating a PDF with ReportLab\n",
    "  * Using Canvas Methods\n",
    "  * Using Flowables\n"
   ]
  },
  {
   "cell_type": "markdown",
   "metadata": {
    "slideshow": {
     "slide_type": "subslide"
    }
   },
   "source": [
    "# Manipulating PDFs with PyPDF2\n",
    "\n",
    "* How to Extract Document Information\n",
    "* How to Rotate Pages\n",
    "* How to Merge PDFs\n",
    "* How to Split PDFs\n",
    "* How to Add Watermarks\n",
    "* How to Encrypt a PDF"
   ]
  },
  {
   "cell_type": "markdown",
   "metadata": {
    "slideshow": {
     "slide_type": "slide"
    }
   },
   "source": [
    "# Questions?\n",
    "\n",
    "## https://github.com/driscollis/PrairieCode2019"
   ]
  }
 ],
 "metadata": {
  "celltoolbar": "Slideshow",
  "kernelspec": {
   "display_name": "Python 3",
   "language": "python",
   "name": "python3"
  },
  "language_info": {
   "codemirror_mode": {
    "name": "ipython",
    "version": 3
   },
   "file_extension": ".py",
   "mimetype": "text/x-python",
   "name": "python",
   "nbconvert_exporter": "python",
   "pygments_lexer": "ipython3",
   "version": "3.6.4"
  }
 },
 "nbformat": 4,
 "nbformat_minor": 2
}
