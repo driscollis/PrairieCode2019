{
 "cells": [
  {
   "cell_type": "markdown",
   "metadata": {
    "slideshow": {
     "slide_type": "slide"
    }
   },
   "source": [
    "# <center>Working with PDFs in Python </center>\n",
    "<p><p>\n",
    "<center>Mike Driscoll (@driscollis)</center>"
   ]
  },
  {
   "cell_type": "markdown",
   "metadata": {
    "slideshow": {
     "slide_type": "slide"
    }
   },
   "source": [
    "# The Portable Document Format\n",
    "\n"
   ]
  },
  {
   "cell_type": "markdown",
   "metadata": {
    "slideshow": {
     "slide_type": "slide"
    }
   },
   "source": [
    "# Manipulating PDFs with Python\n",
    "\n",
    "* How to Extract Document Information From a PDF in Python\n",
    "* How to Rotate Pages\n",
    "* How to Merge PDFs\n",
    "* How to Split PDFs\n",
    "* How to Add Watermarks\n",
    "* How to Encrypt a PDF"
   ]
  },
  {
   "cell_type": "markdown",
   "metadata": {
    "slideshow": {
     "slide_type": "slide"
    }
   },
   "source": [
    "# PDF Libraries for Python\n",
    "\n",
    "There are too many!\n",
    "\n",
    "* **PyPDF2**: rotating, merging, splitting, watermarking, etc\n",
    "* **pdfrw**: rotating, merging, splitting, watermarking, etc\n",
    "* **PDFMiner / Slate**: For extracting text\n",
    "* **ReportLab**: For creating PDFs\n",
    "* and several others"
   ]
  },
  {
   "cell_type": "markdown",
   "metadata": {
    "slideshow": {
     "slide_type": "slide"
    }
   },
   "source": [
    "# We Will Be Using PyPDF2\n",
    "\n",
    "PyPDF2 may be old, but it's reliable\n",
    "\n",
    "**pdfrw** is a viable alternative"
   ]
  },
  {
   "cell_type": "markdown",
   "metadata": {
    "slideshow": {
     "slide_type": "slide"
    }
   },
   "source": [
    "# Versions of PyPDF\n",
    "\n",
    "* PyPDF (dead)\n",
    "* PyPDF2\n",
    "* PyPDF3 (dead)\n",
    "* PyPDF4 (beta)"
   ]
  },
  {
   "cell_type": "code",
   "execution_count": null,
   "metadata": {},
   "outputs": [],
   "source": []
  }
 ],
 "metadata": {
  "celltoolbar": "Slideshow",
  "kernelspec": {
   "display_name": "Python 3",
   "language": "python",
   "name": "python3"
  },
  "language_info": {
   "codemirror_mode": {
    "name": "ipython",
    "version": 3
   },
   "file_extension": ".py",
   "mimetype": "text/x-python",
   "name": "python",
   "nbconvert_exporter": "python",
   "pygments_lexer": "ipython3",
   "version": "3.6.8"
  }
 },
 "nbformat": 4,
 "nbformat_minor": 2
}
