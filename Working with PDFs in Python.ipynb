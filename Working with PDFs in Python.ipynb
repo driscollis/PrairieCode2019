{
 "cells": [
  {
   "cell_type": "markdown",
   "metadata": {
    "slideshow": {
     "slide_type": "slide"
    }
   },
   "source": [
    "# <center>Working with PDFs in Python </center>\n",
    "<p><p>\n",
    "<center>Mike Driscoll (@driscollis)</center>\n",
    "<p><p>"
   ]
  },
  {
   "cell_type": "markdown",
   "metadata": {
    "slideshow": {
     "slide_type": "slide"
    }
   },
   "source": [
    "# Slides / Code\n",
    "## https://github.com/driscollis/PrairieCode2019"
   ]
  },
  {
   "cell_type": "markdown",
   "metadata": {
    "slideshow": {
     "slide_type": "slide"
    }
   },
   "source": [
    "# About Mike\n",
    "\n",
    "- Blogs at www.MouseVsPython.com\n",
    "- Contributes to https://realpython.com/\n",
    "- Writes technical books"
   ]
  },
  {
   "cell_type": "markdown",
   "metadata": {
    "slideshow": {
     "slide_type": "slide"
    }
   },
   "source": [
    "![title](screenshots/all_python.png)"
   ]
  },
  {
   "cell_type": "markdown",
   "metadata": {
    "slideshow": {
     "slide_type": "slide"
    }
   },
   "source": [
    "# What is PDF?\n",
    "\n",
    "\"Portable Document Format (PDF) is a file format used to present and exchange documents reliably, independent of software, hardware, or operating system. Invented by Adobe, PDF is now an open standard maintained by the International Organization for Standardization (ISO). PDFs can contain links and buttons, form fields, audio, video, and business logic. They can also be signed electronically and are easily viewed using free Acrobat Reader DC software.\" - Adobe\n"
   ]
  },
  {
   "cell_type": "markdown",
   "metadata": {
    "slideshow": {
     "slide_type": "slide"
    }
   },
   "source": [
    "# Creating a PDF with Python"
   ]
  },
  {
   "cell_type": "markdown",
   "metadata": {
    "slideshow": {
     "slide_type": "slide"
    }
   },
   "source": [
    "# Tools for Creating PDFs\n",
    "\n",
    "- ReportLab\n",
    "- PyFPDF"
   ]
  },
  {
   "cell_type": "markdown",
   "metadata": {
    "slideshow": {
     "slide_type": "slide"
    }
   },
   "source": [
    "# ReportLab\n",
    "\n",
    "- Has the most features\n",
    "- Decent documentation"
   ]
  },
  {
   "cell_type": "markdown",
   "metadata": {
    "slideshow": {
     "slide_type": "slide"
    }
   },
   "source": [
    "# Two ReportLabs?\n",
    "\n",
    "* ReportLab (open source)\n",
    "* ReportLab Plus (commercial)"
   ]
  },
  {
   "cell_type": "markdown",
   "metadata": {
    "slideshow": {
     "slide_type": "slide"
    }
   },
   "source": [
    "# Installation\n",
    "\n",
    "`pip install reportlab`"
   ]
  },
  {
   "cell_type": "markdown",
   "metadata": {
    "slideshow": {
     "slide_type": "slide"
    }
   },
   "source": [
    "# Creating a PDF with ReportLab\n",
    "\n",
    "- Using coordinates (canvas)\n",
    "- Using Flowables"
   ]
  },
  {
   "cell_type": "markdown",
   "metadata": {
    "slideshow": {
     "slide_type": "slide"
    }
   },
   "source": [
    "# Using the canvas"
   ]
  },
  {
   "cell_type": "code",
   "execution_count": null,
   "metadata": {
    "slideshow": {
     "slide_type": "slide"
    }
   },
   "outputs": [],
   "source": [
    "from reportlab.pdfgen import canvas\n",
    " \n",
    "c = canvas.Canvas(\"hello.pdf\")\n",
    "# coords in point (72 points per inch)\n",
    "c.drawString(100, 750, \"Welcome to Reportlab!\")\n",
    "c.save()"
   ]
  },
  {
   "cell_type": "markdown",
   "metadata": {
    "slideshow": {
     "slide_type": "subslide"
    }
   },
   "source": [
    "![title](screenshots/hello.png)"
   ]
  },
  {
   "cell_type": "markdown",
   "metadata": {
    "slideshow": {
     "slide_type": "slide"
    }
   },
   "source": [
    "# Using Flowables"
   ]
  },
  {
   "cell_type": "code",
   "execution_count": null,
   "metadata": {
    "slideshow": {
     "slide_type": "slide"
    }
   },
   "outputs": [],
   "source": [
    "# hello_platypus.py\n",
    "\n",
    "from reportlab.lib.pagesizes import letter\n",
    "from reportlab.platypus import SimpleDocTemplate, Paragraph\n",
    "from reportlab.lib.styles import getSampleStyleSheet\n",
    "\n",
    "doc = SimpleDocTemplate(\n",
    "    \"hello_platypus.pdf\", pagesize=letter)\n",
    "styles = getSampleStyleSheet()\n",
    "\n",
    "flowables = []\n",
    "\n",
    "text = \"Hello, I'm a Paragraph\"\n",
    "para = Paragraph(text, style=styles[\"Normal\"])\n",
    "flowables.append(para)\n",
    "\n",
    "doc.build(flowables)"
   ]
  },
  {
   "cell_type": "markdown",
   "metadata": {
    "slideshow": {
     "slide_type": "subslide"
    }
   },
   "source": [
    "![title](screenshots/hello_platypus.png)"
   ]
  },
  {
   "cell_type": "markdown",
   "metadata": {
    "slideshow": {
     "slide_type": "slide"
    }
   },
   "source": [
    "# Why Flowables?\n",
    "\n",
    "* Better multi-page support\n",
    "* Add headers / footers\n",
    "* Good table support\n",
    "* Can add drawings / graphs / barcodes easier"
   ]
  },
  {
   "cell_type": "markdown",
   "metadata": {
    "slideshow": {
     "slide_type": "slide"
    }
   },
   "source": [
    "# Additional Resources"
   ]
  },
  {
   "cell_type": "markdown",
   "metadata": {
    "slideshow": {
     "slide_type": "slide"
    }
   },
   "source": [
    "![title](screenshots/reportlab_book_cover3.jpg)"
   ]
  },
  {
   "cell_type": "markdown",
   "metadata": {
    "slideshow": {
     "slide_type": "slide"
    }
   },
   "source": [
    "![title](screenshots/mvp_pdf.png)"
   ]
  },
  {
   "cell_type": "markdown",
   "metadata": {
    "slideshow": {
     "slide_type": "slide"
    }
   },
   "source": [
    "![title](screenshots/real_pdf_py.png)"
   ]
  },
  {
   "cell_type": "markdown",
   "metadata": {
    "slideshow": {
     "slide_type": "slide"
    }
   },
   "source": [
    "# Manipulating PDFs with Python\n",
    "\n"
   ]
  },
  {
   "cell_type": "markdown",
   "metadata": {
    "slideshow": {
     "slide_type": "slide"
    }
   },
   "source": [
    "* How to Extract Document Information \n",
    "* How to Rotate Pages\n",
    "* How to Merge PDFs\n",
    "* How to Split PDFs\n",
    "* How to Add Watermarks\n",
    "* How to Encrypt a PDF"
   ]
  },
  {
   "cell_type": "markdown",
   "metadata": {
    "slideshow": {
     "slide_type": "slide"
    }
   },
   "source": [
    "# PDF Libraries for Python\n",
    "\n",
    "There are too many!\n",
    "\n",
    "* **PyPDF2**: rotating, merging, splitting, watermarking, etc\n",
    "* **pdfrw**: rotating, merging, splitting, watermarking, etc\n",
    "* **PDFMiner / Slate**: For extracting text\n",
    "* **ReportLab**: For creating PDFs\n",
    "* and several others"
   ]
  },
  {
   "cell_type": "markdown",
   "metadata": {
    "slideshow": {
     "slide_type": "slide"
    }
   },
   "source": [
    "# We Will Be Using PyPDF2\n",
    "\n",
    "PyPDF2 may be old, but it's reliable\n",
    "\n",
    "**pdfrw** is a viable alternative"
   ]
  },
  {
   "cell_type": "markdown",
   "metadata": {
    "slideshow": {
     "slide_type": "slide"
    }
   },
   "source": [
    "# History of PyPDF\n",
    "\n",
    "* PyPDF (dead)\n",
    "* PyPDF2\n",
    "* PyPDF3 (dead)\n",
    "* PyPDF4 (beta)"
   ]
  },
  {
   "cell_type": "markdown",
   "metadata": {
    "slideshow": {
     "slide_type": "slide"
    }
   },
   "source": [
    "# Installation\n",
    "\n",
    "`pip install pypdf2`"
   ]
  },
  {
   "cell_type": "markdown",
   "metadata": {
    "slideshow": {
     "slide_type": "slide"
    }
   },
   "source": [
    "# Let's Get Started!"
   ]
  },
  {
   "cell_type": "markdown",
   "metadata": {
    "slideshow": {
     "slide_type": "slide"
    }
   },
   "source": [
    "# How to Extract Document Information"
   ]
  },
  {
   "cell_type": "markdown",
   "metadata": {
    "slideshow": {
     "slide_type": "subslide"
    }
   },
   "source": [
    "- author\n",
    "- creator\n",
    "- producer\n",
    "- subject\n",
    "- title\n",
    "- number of pages"
   ]
  },
  {
   "cell_type": "code",
   "execution_count": null,
   "metadata": {
    "slideshow": {
     "slide_type": "slide"
    }
   },
   "outputs": [],
   "source": [
    "from PyPDF2 import PdfFileReader\n",
    "\n",
    "path = 'reportlab-sample.pdf'\n",
    "with open(path, 'rb') as f:\n",
    "    pdf = PdfFileReader(f)\n",
    "    information = pdf.getDocumentInfo()\n",
    "    number_of_pages = pdf.getNumPages()  \n"
   ]
  },
  {
   "cell_type": "code",
   "execution_count": null,
   "metadata": {
    "slideshow": {
     "slide_type": "slide"
    }
   },
   "outputs": [],
   "source": [
    "txt = f\"\"\"\n",
    "Information about {path}: \n",
    "\n",
    "Author: {information.author}\n",
    "Creator: {information.creator}\n",
    "Producer: {information.producer}\n",
    "Subject: {information.subject}\n",
    "Title: {information.title}\n",
    "Number of pages: {number_of_pages}\n",
    "\"\"\"\n",
    "\n",
    "print(txt)"
   ]
  },
  {
   "cell_type": "markdown",
   "metadata": {
    "slideshow": {
     "slide_type": "slide"
    }
   },
   "source": [
    "# How to Rotate Pages"
   ]
  },
  {
   "cell_type": "markdown",
   "metadata": {
    "slideshow": {
     "slide_type": "subslide"
    }
   },
   "source": [
    "# Why Rotate?\n",
    "\n",
    "- Page scanned incorrectly"
   ]
  },
  {
   "cell_type": "code",
   "execution_count": 5,
   "metadata": {
    "slideshow": {
     "slide_type": "subslide"
    }
   },
   "outputs": [],
   "source": [
    "# rotate_pages.py\n",
    "\n",
    "from PyPDF2 import PdfFileReader, PdfFileWriter\n",
    "\n",
    "path = 'Jupyter_Notebook_An_Introduction.pdf'\n",
    "pdf_writer = PdfFileWriter()\n",
    "pdf_reader = PdfFileReader(path)\n",
    "# Rotate page 90 degrees to the right\n",
    "page_1 = pdf_reader.getPage(0).rotateClockwise(90)\n",
    "pdf_writer.addPage(page_1)"
   ]
  },
  {
   "cell_type": "code",
   "execution_count": 6,
   "metadata": {
    "slideshow": {
     "slide_type": "subslide"
    }
   },
   "outputs": [],
   "source": [
    "# Rotate page 90 degrees to the left\n",
    "page_2 = pdf_reader.getPage(1).rotateCounterClockwise(90)\n",
    "pdf_writer.addPage(page_2)\n",
    "# Add a page in normal orientation\n",
    "pdf_writer.addPage(pdf_reader.getPage(2))\n",
    "\n",
    "with open('rotate_pages.pdf', 'wb') as fh:\n",
    "    pdf_writer.write(fh)"
   ]
  },
  {
   "cell_type": "markdown",
   "metadata": {
    "slideshow": {
     "slide_type": "slide"
    }
   },
   "source": [
    "# How to Merge PDFs"
   ]
  },
  {
   "cell_type": "markdown",
   "metadata": {
    "slideshow": {
     "slide_type": "subslide"
    }
   },
   "source": [
    "# Reasons for Merging\n",
    "\n",
    "* Need to add a cover page\n",
    "* Your copier scans the pages to individual PDFs\n",
    "* Building a document from different sources"
   ]
  },
  {
   "cell_type": "code",
   "execution_count": null,
   "metadata": {
    "slideshow": {
     "slide_type": "subslide"
    }
   },
   "outputs": [],
   "source": [
    "# pdf_merging.py\n",
    "\n",
    "from PyPDF2 import PdfFileReader, PdfFileWriter\n",
    "\n",
    "paths = ['document1.pdf', 'document2.pdf']\n",
    "pdf_writer = PdfFileWriter()\n",
    "\n",
    "for path in paths:\n",
    "    pdf_reader = PdfFileReader(path)\n",
    "    for page in range(pdf_reader.getNumPages()):\n",
    "        # Add each page to the writer object\n",
    "        pdf_writer.addPage(pdf_reader.getPage(page))\n",
    "\n",
    "# Write out the merged PDF\n",
    "with open(output, 'wb') as out:\n",
    "    pdf_writer.write(out)"
   ]
  },
  {
   "cell_type": "markdown",
   "metadata": {
    "slideshow": {
     "slide_type": "slide"
    }
   },
   "source": [
    "# Using PdfFileMerger"
   ]
  },
  {
   "cell_type": "code",
   "execution_count": 7,
   "metadata": {
    "slideshow": {
     "slide_type": "subslide"
    }
   },
   "outputs": [],
   "source": [
    "from PyPDF2 import PdfFileMerger\n",
    "\n",
    "paths = ['rotate_pages.pdf', 'watermark.pdf']\n",
    "pdf_merger = PdfFileMerger()\n",
    "\n",
    "for path in paths:\n",
    "    pdf_merger.append(open(path, 'rb'))\n",
    "\n",
    "# Write out the merged PDF\n",
    "with open('merged.pdf', 'wb') as out:\n",
    "    pdf_merger.write(out)"
   ]
  },
  {
   "cell_type": "markdown",
   "metadata": {
    "slideshow": {
     "slide_type": "slide"
    }
   },
   "source": [
    "# How to Split PDFs"
   ]
  },
  {
   "cell_type": "markdown",
   "metadata": {
    "slideshow": {
     "slide_type": "subslide"
    }
   },
   "source": [
    "# Reasons for Splitting\n",
    "\n",
    "- You want to take a cover page off\n",
    "- You only need a subset of pages"
   ]
  },
  {
   "cell_type": "code",
   "execution_count": 9,
   "metadata": {
    "slideshow": {
     "slide_type": "subslide"
    }
   },
   "outputs": [],
   "source": [
    "# pdf_splitting.py\n",
    "\n",
    "from PyPDF2 import PdfFileReader, PdfFileWriter\n",
    "\n",
    "path = 'Jupyter_Notebook_An_Introduction.pdf'\n",
    "pdf = PdfFileReader(path)\n",
    "for page in range(pdf.getNumPages()):\n",
    "    pdf_writer = PdfFileWriter()\n",
    "    pdf_writer.addPage(pdf.getPage(page))\n",
    "    name_of_split = 'jupyter_page'\n",
    "\n",
    "    output = f'{name_of_split}{page}.pdf'\n",
    "    with open(output, 'wb') as output_pdf:\n",
    "        pdf_writer.write(output_pdf)"
   ]
  },
  {
   "cell_type": "markdown",
   "metadata": {
    "slideshow": {
     "slide_type": "subslide"
    }
   },
   "source": [
    "## Note: Splitting PDFs does not reduce file size significantly with PyPDF2 or pdfrw"
   ]
  },
  {
   "cell_type": "markdown",
   "metadata": {
    "slideshow": {
     "slide_type": "subslide"
    }
   },
   "source": [
    "### *In many PDFs, all pages will reference the same pool of fonts and other resources, so removing a set of pages, without intrusively scrubbing the resources, won't reduce the size dramatically.*\n",
    "\n",
    "-- Patrick Maupin (author of pdfrw)"
   ]
  },
  {
   "cell_type": "markdown",
   "metadata": {
    "slideshow": {
     "slide_type": "slide"
    }
   },
   "source": [
    "# How to Add Watermarks"
   ]
  },
  {
   "cell_type": "markdown",
   "metadata": {
    "slideshow": {
     "slide_type": "subslide"
    }
   },
   "source": [
    "Watermarks are identifying images or patterns on printed and digital documents.\n",
    "\n",
    "They are useful for protecting intellectual property"
   ]
  },
  {
   "cell_type": "markdown",
   "metadata": {
    "slideshow": {
     "slide_type": "subslide"
    }
   },
   "source": [
    "# Creating a Watermark PDF\n",
    "\n",
    "* Programmatically or\n",
    "* Word Processor"
   ]
  },
  {
   "cell_type": "markdown",
   "metadata": {
    "slideshow": {
     "slide_type": "subslide"
    }
   },
   "source": [
    "# Programmatically\n",
    "\n",
    "You can use ReportLab for that"
   ]
  },
  {
   "cell_type": "code",
   "execution_count": null,
   "metadata": {
    "slideshow": {
     "slide_type": "subslide"
    }
   },
   "outputs": [],
   "source": [
    "from reportlab.lib.pagesizes import letter\n",
    "from reportlab.platypus import SimpleDocTemplate, Image\n",
    "from reportlab.lib import utils\n",
    "\n",
    "img = utils.ImageReader('real-python-logo-wide.png')\n",
    "orig_width, height = img.getSize()\n",
    "aspect = height / orig_width\n",
    "\n",
    "doc = SimpleDocTemplate('watermark.pdf', pagesize=letter)\n",
    "\n",
    "logo = Image('real-python-logo-wide.png', width=400, height=400*aspect)\n",
    "\n",
    "doc.build([logo])"
   ]
  },
  {
   "cell_type": "markdown",
   "metadata": {
    "slideshow": {
     "slide_type": "subslide"
    }
   },
   "source": [
    "# Using a Word Processor"
   ]
  },
  {
   "cell_type": "markdown",
   "metadata": {
    "slideshow": {
     "slide_type": "subslide"
    }
   },
   "source": [
    "* Add image in new blank document\n",
    "* Verify document size matches PDF size (letter, A4, etc)\n",
    "* Position image\n",
    "* Save / Export as PDF"
   ]
  },
  {
   "cell_type": "code",
   "execution_count": null,
   "metadata": {
    "slideshow": {
     "slide_type": "subslide"
    }
   },
   "outputs": [],
   "source": [
    "from PyPDF2 import PdfFileReader, PdfFileWriter\n",
    "input_pdf = 'Jupyter_Notebook_An_Introduction.pdf'\n",
    "output = 'watermarked_notebook.pdf'\n",
    "watermark = 'watermark.pdf'\n",
    "\n",
    "watermark_obj = PdfFileReader(watermark)\n",
    "watermark_page = watermark_obj.getPage(0)\n",
    "\n",
    "pdf_reader = PdfFileReader(input_pdf)\n",
    "pdf_writer = PdfFileWriter()\n",
    "\n",
    "# Watermark all the pages\n",
    "for page in range(pdf_reader.getNumPages()):\n",
    "    page = pdf_reader.getPage(page)\n",
    "    page.mergePage(watermark_page)\n",
    "    pdf_writer.addPage(page)\n",
    "\n",
    "with open(output, 'wb') as out:\n",
    "    pdf_writer.write(out)"
   ]
  },
  {
   "cell_type": "markdown",
   "metadata": {
    "slideshow": {
     "slide_type": "slide"
    }
   },
   "source": [
    "# How to Encrypt a PDF\n",
    "\n",
    "PyPDF2 currently only supports adding a user password and an owner password to a preexisting PDF"
   ]
  },
  {
   "cell_type": "markdown",
   "metadata": {
    "slideshow": {
     "slide_type": "subslide"
    }
   },
   "source": [
    "# Owner vs User Passwords\n",
    "\n",
    "* Owner allows setting permissions\n",
    "* User only allows opening the document"
   ]
  },
  {
   "cell_type": "markdown",
   "metadata": {
    "slideshow": {
     "slide_type": "subslide"
    }
   },
   "source": [
    "PyPDF2 does not appear to allow the setting of any permissions, so owner and user passwords are basically equivelent to each other"
   ]
  },
  {
   "cell_type": "markdown",
   "metadata": {
    "slideshow": {
     "slide_type": "subslide"
    }
   },
   "source": [
    "# Without further ado, let's look at some code!"
   ]
  },
  {
   "cell_type": "code",
   "execution_count": null,
   "metadata": {
    "slideshow": {
     "slide_type": "subslide"
    }
   },
   "outputs": [],
   "source": [
    "# pdf_encrypt.py\n",
    "\n",
    "from PyPDF2 import PdfFileWriter, PdfFileReader\n",
    "\n",
    "def add_encryption(input_pdf, output_pdf, password):\n",
    "    pdf_writer = PdfFileWriter()\n",
    "    pdf_reader = PdfFileReader(input_pdf)\n",
    "\n",
    "    for page in range(pdf_reader.getNumPages()):\n",
    "        pdf_writer.addPage(pdf_reader.getPage(page))\n",
    "\n",
    "    pdf_writer.encrypt(user_pwd=password, owner_pwd=None, \n",
    "                       use_128bit=True)\n",
    "    with open(output_pdf, 'wb') as fh:\n",
    "        pdf_writer.write(fh)\n",
    "\n",
    "if __name__ == '__main__':\n",
    "    add_encryption(input_pdf='reportlab-sample.pdf',\n",
    "                   output_pdf='reportlab-encrypted.pdf',\n",
    "                   password='twofish')"
   ]
  },
  {
   "cell_type": "markdown",
   "metadata": {
    "slideshow": {
     "slide_type": "subslide"
    }
   },
   "source": [
    "- Added a password\n",
    "- Encrypted the contents with 128-bit encryption\n",
    "- Note: If **use_128bit** is set to False, 40-bit encryption is used"
   ]
  },
  {
   "cell_type": "markdown",
   "metadata": {
    "slideshow": {
     "slide_type": "slide"
    }
   },
   "source": [
    "# PDF Utility GUI\n",
    "\n",
    "![title](screenshots/wx_cover.png)"
   ]
  },
  {
   "cell_type": "markdown",
   "metadata": {
    "slideshow": {
     "slide_type": "subslide"
    }
   },
   "source": [
    "# <center> Merge PDFs</center>\n",
    "\n",
    "![title](screenshots/merge.png)"
   ]
  },
  {
   "cell_type": "markdown",
   "metadata": {
    "slideshow": {
     "slide_type": "subslide"
    }
   },
   "source": [
    "# <center> Split PDFs</center>\n",
    "\n",
    "![title](screenshots/split.png)"
   ]
  },
  {
   "cell_type": "markdown",
   "metadata": {
    "slideshow": {
     "slide_type": "slide"
    }
   },
   "source": [
    "# Slides / Code\n",
    "## https://github.com/driscollis/PrairieCode2019"
   ]
  },
  {
   "cell_type": "markdown",
   "metadata": {
    "slideshow": {
     "slide_type": "slide"
    }
   },
   "source": [
    "# Questions?"
   ]
  }
 ],
 "metadata": {
  "celltoolbar": "Slideshow",
  "kernelspec": {
   "display_name": "Python 3",
   "language": "python",
   "name": "python3"
  },
  "language_info": {
   "codemirror_mode": {
    "name": "ipython",
    "version": 3
   },
   "file_extension": ".py",
   "mimetype": "text/x-python",
   "name": "python",
   "nbconvert_exporter": "python",
   "pygments_lexer": "ipython3",
   "version": "3.6.4"
  }
 },
 "nbformat": 4,
 "nbformat_minor": 2
}
